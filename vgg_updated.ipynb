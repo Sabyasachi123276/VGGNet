{
  "nbformat": 4,
  "nbformat_minor": 0,
  "metadata": {
    "colab": {
      "name": "vgg updated.ipynb",
      "provenance": []
    },
    "language_info": {
      "name": "python"
    },
    "kernelspec": {
      "name": "python3",
      "display_name": "Python 3"
    }
  },
  "cells": [
    {
      "cell_type": "markdown",
      "metadata": {
        "origin_pos": 0,
        "id": "TH2QiW0oZOUq"
      },
      "source": [
        "**Networks Using Blocks (VGG)**\n",
        "\n",
        "While AlexNet offered empirical evidence that deep CNNs\n",
        "can achieve good results, it did not provide a general template\n",
        "to guide subsequent researchers in designing new networks.\n",
        "In the following sections, we will introduce several heuristic concepts\n",
        "commonly used to design deep networks.\n",
        "\n",
        "Progress in this field mirrors that in chip design\n",
        "where engineers went from placing transistors\n",
        "to logical elements to logic blocks.\n",
        "Similarly, the design of neural network architectures\n",
        "had grown progressively more abstract,\n",
        "with researchers moving from thinking in terms of\n",
        "individual neurons to whole layers,\n",
        "and now to blocks, repeating patterns of layers.\n",
        "\n",
        "The idea of using blocks first emerged from the\n",
        "[Visual Geometry Group](http://www.robots.ox.ac.uk/~vgg/) (VGG)\n",
        "at Oxford University,\n",
        "in their eponymously-named *VGG* network.\n",
        "It is easy to implement these repeated structures in code\n",
        "with any modern deep learning framework by using loops and subroutines.\n",
        "\n",
        "\n",
        "**VGG Blocks**\n",
        "\n",
        "\n",
        "The basic building block of classic CNNs is a sequence of the following:\n",
        "(i) a convolutional layer\n",
        "with padding to maintain the resolution,\n",
        "(ii) a nonlinearity such as a ReLU,\n",
        "(iii) a pooling layer such as a maximum pooling layer.\n",
        "One VGG block consists of a sequence of convolutional layers, followed by a maximum pooling layer for spatial downsampling. In the original VGG paper [Simonyan and Zisserman, 2014], the authors\n",
        "employed convolutions with $3\\times3$ kernels with padding of 1 (keeping height and width) and $2 \\times 2$ maximum pooling with stride of 2 (halving the resolution after each block). In the code below, we define a function called `vgg_block` to implement one VGG block.\n"
      ]
    },
    {
      "cell_type": "markdown",
      "metadata": {
        "origin_pos": 1,
        "tab": [
          "mxnet"
        ],
        "id": "HU1etWfBZOUz"
      },
      "source": [
        "The function takes two arguments\n",
        "corresponding to the number of convolutional layers `num_convs`\n",
        "and the number of output channels `num_channels`.\n"
      ]
    },
    {
      "cell_type": "code",
      "metadata": {
        "origin_pos": 3,
        "tab": [
          "mxnet"
        ],
        "colab": {
          "base_uri": "https://localhost:8080/"
        },
        "id": "OhpGOydlZOU1",
        "outputId": "eeadda29-2d8b-4695-cd8f-b2148c64000c"
      },
      "source": [
        "!pip install mxnet\n",
        "!pip install d2l\n",
        "from mxnet import np, npx\n",
        "from mxnet.gluon import nn\n",
        "from d2l import mxnet as d2l\n",
        "\n",
        "npx.set_np()\n",
        "\n",
        "def vgg_block(num_convs, num_channels):\n",
        "    blk = nn.Sequential()\n",
        "    for _ in range(num_convs):\n",
        "        blk.add(\n",
        "            nn.Conv2D(num_channels, kernel_size=3, padding=1,\n",
        "                      activation='relu'))\n",
        "    blk.add(nn.MaxPool2D(pool_size=2, strides=2))\n",
        "    return blk"
      ],
      "execution_count": 1,
      "outputs": [
        {
          "output_type": "stream",
          "text": [
            "Collecting mxnet\n",
            "  Downloading mxnet-1.8.0.post0-py2.py3-none-manylinux2014_x86_64.whl (46.9 MB)\n",
            "\u001b[K     |████████████████████████████████| 46.9 MB 43 kB/s \n",
            "\u001b[?25hRequirement already satisfied: numpy<2.0.0,>1.16.0 in /usr/local/lib/python3.7/dist-packages (from mxnet) (1.19.5)\n",
            "Requirement already satisfied: requests<3,>=2.20.0 in /usr/local/lib/python3.7/dist-packages (from mxnet) (2.23.0)\n",
            "Collecting graphviz<0.9.0,>=0.8.1\n",
            "  Downloading graphviz-0.8.4-py2.py3-none-any.whl (16 kB)\n",
            "Requirement already satisfied: idna<3,>=2.5 in /usr/local/lib/python3.7/dist-packages (from requests<3,>=2.20.0->mxnet) (2.10)\n",
            "Requirement already satisfied: certifi>=2017.4.17 in /usr/local/lib/python3.7/dist-packages (from requests<3,>=2.20.0->mxnet) (2021.5.30)\n",
            "Requirement already satisfied: chardet<4,>=3.0.2 in /usr/local/lib/python3.7/dist-packages (from requests<3,>=2.20.0->mxnet) (3.0.4)\n",
            "Requirement already satisfied: urllib3!=1.25.0,!=1.25.1,<1.26,>=1.21.1 in /usr/local/lib/python3.7/dist-packages (from requests<3,>=2.20.0->mxnet) (1.24.3)\n",
            "Installing collected packages: graphviz, mxnet\n",
            "  Attempting uninstall: graphviz\n",
            "    Found existing installation: graphviz 0.10.1\n",
            "    Uninstalling graphviz-0.10.1:\n",
            "      Successfully uninstalled graphviz-0.10.1\n",
            "Successfully installed graphviz-0.8.4 mxnet-1.8.0.post0\n",
            "Collecting d2l\n",
            "  Downloading d2l-0.17.0-py3-none-any.whl (83 kB)\n",
            "\u001b[K     |████████████████████████████████| 83 kB 1.8 MB/s \n",
            "\u001b[?25hRequirement already satisfied: matplotlib in /usr/local/lib/python3.7/dist-packages (from d2l) (3.2.2)\n",
            "Requirement already satisfied: jupyter in /usr/local/lib/python3.7/dist-packages (from d2l) (1.0.0)\n",
            "Requirement already satisfied: requests in /usr/local/lib/python3.7/dist-packages (from d2l) (2.23.0)\n",
            "Requirement already satisfied: pandas in /usr/local/lib/python3.7/dist-packages (from d2l) (1.1.5)\n",
            "Requirement already satisfied: numpy in /usr/local/lib/python3.7/dist-packages (from d2l) (1.19.5)\n",
            "Requirement already satisfied: jupyter-console in /usr/local/lib/python3.7/dist-packages (from jupyter->d2l) (5.2.0)\n",
            "Requirement already satisfied: ipykernel in /usr/local/lib/python3.7/dist-packages (from jupyter->d2l) (4.10.1)\n",
            "Requirement already satisfied: qtconsole in /usr/local/lib/python3.7/dist-packages (from jupyter->d2l) (5.1.1)\n",
            "Requirement already satisfied: ipywidgets in /usr/local/lib/python3.7/dist-packages (from jupyter->d2l) (7.6.3)\n",
            "Requirement already satisfied: nbconvert in /usr/local/lib/python3.7/dist-packages (from jupyter->d2l) (5.6.1)\n",
            "Requirement already satisfied: notebook in /usr/local/lib/python3.7/dist-packages (from jupyter->d2l) (5.3.1)\n",
            "Requirement already satisfied: tornado>=4.0 in /usr/local/lib/python3.7/dist-packages (from ipykernel->jupyter->d2l) (5.1.1)\n",
            "Requirement already satisfied: ipython>=4.0.0 in /usr/local/lib/python3.7/dist-packages (from ipykernel->jupyter->d2l) (5.5.0)\n",
            "Requirement already satisfied: jupyter-client in /usr/local/lib/python3.7/dist-packages (from ipykernel->jupyter->d2l) (5.3.5)\n",
            "Requirement already satisfied: traitlets>=4.1.0 in /usr/local/lib/python3.7/dist-packages (from ipykernel->jupyter->d2l) (5.0.5)\n",
            "Requirement already satisfied: decorator in /usr/local/lib/python3.7/dist-packages (from ipython>=4.0.0->ipykernel->jupyter->d2l) (4.4.2)\n",
            "Requirement already satisfied: setuptools>=18.5 in /usr/local/lib/python3.7/dist-packages (from ipython>=4.0.0->ipykernel->jupyter->d2l) (57.2.0)\n",
            "Requirement already satisfied: simplegeneric>0.8 in /usr/local/lib/python3.7/dist-packages (from ipython>=4.0.0->ipykernel->jupyter->d2l) (0.8.1)\n",
            "Requirement already satisfied: prompt-toolkit<2.0.0,>=1.0.4 in /usr/local/lib/python3.7/dist-packages (from ipython>=4.0.0->ipykernel->jupyter->d2l) (1.0.18)\n",
            "Requirement already satisfied: pickleshare in /usr/local/lib/python3.7/dist-packages (from ipython>=4.0.0->ipykernel->jupyter->d2l) (0.7.5)\n",
            "Requirement already satisfied: pygments in /usr/local/lib/python3.7/dist-packages (from ipython>=4.0.0->ipykernel->jupyter->d2l) (2.6.1)\n",
            "Requirement already satisfied: pexpect in /usr/local/lib/python3.7/dist-packages (from ipython>=4.0.0->ipykernel->jupyter->d2l) (4.8.0)\n",
            "Requirement already satisfied: wcwidth in /usr/local/lib/python3.7/dist-packages (from prompt-toolkit<2.0.0,>=1.0.4->ipython>=4.0.0->ipykernel->jupyter->d2l) (0.2.5)\n",
            "Requirement already satisfied: six>=1.9.0 in /usr/local/lib/python3.7/dist-packages (from prompt-toolkit<2.0.0,>=1.0.4->ipython>=4.0.0->ipykernel->jupyter->d2l) (1.15.0)\n",
            "Requirement already satisfied: ipython-genutils in /usr/local/lib/python3.7/dist-packages (from traitlets>=4.1.0->ipykernel->jupyter->d2l) (0.2.0)\n",
            "Requirement already satisfied: jupyterlab-widgets>=1.0.0 in /usr/local/lib/python3.7/dist-packages (from ipywidgets->jupyter->d2l) (1.0.0)\n",
            "Requirement already satisfied: nbformat>=4.2.0 in /usr/local/lib/python3.7/dist-packages (from ipywidgets->jupyter->d2l) (5.1.3)\n",
            "Requirement already satisfied: widgetsnbextension~=3.5.0 in /usr/local/lib/python3.7/dist-packages (from ipywidgets->jupyter->d2l) (3.5.1)\n",
            "Requirement already satisfied: jupyter-core in /usr/local/lib/python3.7/dist-packages (from nbformat>=4.2.0->ipywidgets->jupyter->d2l) (4.7.1)\n",
            "Requirement already satisfied: jsonschema!=2.5.0,>=2.4 in /usr/local/lib/python3.7/dist-packages (from nbformat>=4.2.0->ipywidgets->jupyter->d2l) (2.6.0)\n",
            "Requirement already satisfied: terminado>=0.8.1 in /usr/local/lib/python3.7/dist-packages (from notebook->jupyter->d2l) (0.10.1)\n",
            "Requirement already satisfied: Send2Trash in /usr/local/lib/python3.7/dist-packages (from notebook->jupyter->d2l) (1.7.1)\n",
            "Requirement already satisfied: jinja2 in /usr/local/lib/python3.7/dist-packages (from notebook->jupyter->d2l) (2.11.3)\n",
            "Requirement already satisfied: python-dateutil>=2.1 in /usr/local/lib/python3.7/dist-packages (from jupyter-client->ipykernel->jupyter->d2l) (2.8.1)\n",
            "Requirement already satisfied: pyzmq>=13 in /usr/local/lib/python3.7/dist-packages (from jupyter-client->ipykernel->jupyter->d2l) (22.1.0)\n",
            "Requirement already satisfied: ptyprocess in /usr/local/lib/python3.7/dist-packages (from terminado>=0.8.1->notebook->jupyter->d2l) (0.7.0)\n",
            "Requirement already satisfied: MarkupSafe>=0.23 in /usr/local/lib/python3.7/dist-packages (from jinja2->notebook->jupyter->d2l) (2.0.1)\n",
            "Requirement already satisfied: cycler>=0.10 in /usr/local/lib/python3.7/dist-packages (from matplotlib->d2l) (0.10.0)\n",
            "Requirement already satisfied: pyparsing!=2.0.4,!=2.1.2,!=2.1.6,>=2.0.1 in /usr/local/lib/python3.7/dist-packages (from matplotlib->d2l) (2.4.7)\n",
            "Requirement already satisfied: kiwisolver>=1.0.1 in /usr/local/lib/python3.7/dist-packages (from matplotlib->d2l) (1.3.1)\n",
            "Requirement already satisfied: entrypoints>=0.2.2 in /usr/local/lib/python3.7/dist-packages (from nbconvert->jupyter->d2l) (0.3)\n",
            "Requirement already satisfied: mistune<2,>=0.8.1 in /usr/local/lib/python3.7/dist-packages (from nbconvert->jupyter->d2l) (0.8.4)\n",
            "Requirement already satisfied: bleach in /usr/local/lib/python3.7/dist-packages (from nbconvert->jupyter->d2l) (3.3.0)\n",
            "Requirement already satisfied: pandocfilters>=1.4.1 in /usr/local/lib/python3.7/dist-packages (from nbconvert->jupyter->d2l) (1.4.3)\n",
            "Requirement already satisfied: testpath in /usr/local/lib/python3.7/dist-packages (from nbconvert->jupyter->d2l) (0.5.0)\n",
            "Requirement already satisfied: defusedxml in /usr/local/lib/python3.7/dist-packages (from nbconvert->jupyter->d2l) (0.7.1)\n",
            "Requirement already satisfied: packaging in /usr/local/lib/python3.7/dist-packages (from bleach->nbconvert->jupyter->d2l) (21.0)\n",
            "Requirement already satisfied: webencodings in /usr/local/lib/python3.7/dist-packages (from bleach->nbconvert->jupyter->d2l) (0.5.1)\n",
            "Requirement already satisfied: pytz>=2017.2 in /usr/local/lib/python3.7/dist-packages (from pandas->d2l) (2018.9)\n",
            "Requirement already satisfied: qtpy in /usr/local/lib/python3.7/dist-packages (from qtconsole->jupyter->d2l) (1.9.0)\n",
            "Requirement already satisfied: certifi>=2017.4.17 in /usr/local/lib/python3.7/dist-packages (from requests->d2l) (2021.5.30)\n",
            "Requirement already satisfied: urllib3!=1.25.0,!=1.25.1,<1.26,>=1.21.1 in /usr/local/lib/python3.7/dist-packages (from requests->d2l) (1.24.3)\n",
            "Requirement already satisfied: chardet<4,>=3.0.2 in /usr/local/lib/python3.7/dist-packages (from requests->d2l) (3.0.4)\n",
            "Requirement already satisfied: idna<3,>=2.5 in /usr/local/lib/python3.7/dist-packages (from requests->d2l) (2.10)\n",
            "Installing collected packages: d2l\n",
            "Successfully installed d2l-0.17.0\n"
          ],
          "name": "stdout"
        }
      ]
    },
    {
      "cell_type": "markdown",
      "metadata": {
        "origin_pos": 6,
        "id": "-f4muxE5ZOU3"
      },
      "source": [
        "**VGG Network**\n",
        "\n",
        "Like AlexNet and LeNet, the VGG Network can be partitioned into two parts:\n",
        "the first consisting mostly of convolutional and pooling layers and the second consisting of fully-connected layers.\n",
        "\n",
        "\n",
        "The convolutional part of the network connects several VGG blocks (also defined in the `vgg_block` function) in succession. The following variable `conv_arch` consists of a list of tuples (one per block), where each contains two values: the number of convolutional layers and the number of output channels, which are precisely the arguments required to call the `vgg_block` function. The fully-connected part of the VGG network is identical to that covered in AlexNet.\n",
        "\n",
        "The original VGG network had 5 convolutional blocks, among which the first two have one convolutional layer each and the latter three contain two convolutional layers each. The first block has 64 output channels and each subsequent block doubles the number of output channels, until that number reaches 512. Since this network uses 8 convolutional layers and 3 fully-connected layers, it is often called VGG-11.\n"
      ]
    },
    {
      "cell_type": "markdown",
      "metadata": {
        "id": "NGfiLQj3amIB"
      },
      "source": [
        "![AlexNet VS VGG.PNG](data:image/png;base64,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)"
      ]
    },
    {
      "cell_type": "markdown",
      "metadata": {
        "id": "3IqwNVeoa60V"
      },
      "source": [
        "Fig.1: From AlexNet to VGG that is designed from building blocks."
      ]
    },
    {
      "cell_type": "code",
      "metadata": {
        "origin_pos": 7,
        "tab": [
          "mxnet"
        ],
        "id": "7yTGxsT2ZOU6"
      },
      "source": [
        "conv_arch = ((1, 64), (1, 128), (2, 256), (2, 512), (2, 512))"
      ],
      "execution_count": 2,
      "outputs": []
    },
    {
      "cell_type": "markdown",
      "metadata": {
        "origin_pos": 8,
        "id": "1Sh92Xx6ZOU7"
      },
      "source": [
        "The following code implements VGG-11. This is a simple matter of executing a for-loop over `conv_arch`.\n"
      ]
    },
    {
      "cell_type": "code",
      "metadata": {
        "origin_pos": 9,
        "tab": [
          "mxnet"
        ],
        "id": "u95qBbR3ZOU9"
      },
      "source": [
        "def vgg(conv_arch):\n",
        "    net = nn.Sequential()\n",
        "    # The convolutional part\n",
        "    for (num_convs, num_channels) in conv_arch:\n",
        "        net.add(vgg_block(num_convs, num_channels))\n",
        "    # The fully-connected part\n",
        "    net.add(nn.Dense(4096, activation='relu'), nn.Dropout(0.5),\n",
        "            nn.Dense(4096, activation='relu'), nn.Dropout(0.5), nn.Dense(10))\n",
        "    return net\n",
        "\n",
        "net = vgg(conv_arch)"
      ],
      "execution_count": 3,
      "outputs": []
    },
    {
      "cell_type": "markdown",
      "metadata": {
        "origin_pos": 12,
        "id": "uYM4WneFZOU_"
      },
      "source": [
        "Next, we will construct a single-channel data example\n",
        "with a height and width of 224 to observe the output shape of each layer.\n"
      ]
    },
    {
      "cell_type": "code",
      "metadata": {
        "origin_pos": 13,
        "tab": [
          "mxnet"
        ],
        "colab": {
          "base_uri": "https://localhost:8080/"
        },
        "id": "n6PrM7PRZOVB",
        "outputId": "8a4450e7-ff00-40f3-b493-b04ef566a85f"
      },
      "source": [
        "net.initialize()\n",
        "X = np.random.uniform(size=(1, 1, 224, 224))\n",
        "for blk in net:\n",
        "    X = blk(X)\n",
        "    print(blk.name, 'output shape:\\t', X.shape)"
      ],
      "execution_count": 4,
      "outputs": [
        {
          "output_type": "stream",
          "text": [
            "sequential1 output shape:\t (1, 64, 112, 112)\n",
            "sequential2 output shape:\t (1, 128, 56, 56)\n",
            "sequential3 output shape:\t (1, 256, 28, 28)\n",
            "sequential4 output shape:\t (1, 512, 14, 14)\n",
            "sequential5 output shape:\t (1, 512, 7, 7)\n",
            "dense0 output shape:\t (1, 4096)\n",
            "dropout0 output shape:\t (1, 4096)\n",
            "dense1 output shape:\t (1, 4096)\n",
            "dropout1 output shape:\t (1, 4096)\n",
            "dense2 output shape:\t (1, 10)\n"
          ],
          "name": "stdout"
        }
      ]
    },
    {
      "cell_type": "markdown",
      "metadata": {
        "origin_pos": 16,
        "id": "xeK56GhqZOVG"
      },
      "source": [
        "As you can see, we halve height and width at each block,\n",
        "finally reaching a height and width of 7\n",
        "before flattening the representations\n",
        "for processing by the fully-connected part of the network.\n",
        "\n",
        "**Training**\n",
        "\n",
        "Since VGG-11 is more computationally-heavy than AlexNet\n",
        "we construct a network with a smaller number of channels.\n",
        "This is more than sufficient for training on Fashion-MNIST.\n"
      ]
    },
    {
      "cell_type": "code",
      "metadata": {
        "origin_pos": 17,
        "tab": [
          "mxnet"
        ],
        "id": "N_50YcI3ZOVL"
      },
      "source": [
        "ratio = 4\n",
        "small_conv_arch = [(pair[0], pair[1] // ratio) for pair in conv_arch]\n",
        "net = vgg(small_conv_arch)"
      ],
      "execution_count": 5,
      "outputs": []
    },
    {
      "cell_type": "markdown",
      "metadata": {
        "origin_pos": 19,
        "id": "IVj8f_yUZOVL"
      },
      "source": [
        "Apart from using a slightly larger learning rate,\n",
        "the model training process is similar to that of AlexNet.\n"
      ]
    },
    {
      "cell_type": "code",
      "metadata": {
        "origin_pos": 20,
        "tab": [
          "mxnet"
        ],
        "id": "Ed8faYvEZOVN",
        "outputId": "9331b0fd-b003-4768-da50-664310a4e83e"
      },
      "source": [
        "lr, num_epochs, batch_size = 0.05, 10, 128\n",
        "train_iter, test_iter = d2l.load_data_fashion_mnist(batch_size, resize=224)\n",
        "d2l.train_ch6(net, train_iter, test_iter, num_epochs, lr, d2l.try_gpu())"
      ],
      "execution_count": null,
      "outputs": [
        {
          "output_type": "stream",
          "text": [
            "loss 0.174, train acc 0.935, test acc 0.927\n",
            "1791.7 examples/sec on gpu(0)\n"
          ],
          "name": "stdout"
        },
        {
          "output_type": "display_data",
          "data": {
            "image/svg+xml": "<?xml version=\"1.0\" encoding=\"utf-8\" standalone=\"no\"?>\n<!DOCTYPE svg PUBLIC \"-//W3C//DTD SVG 1.1//EN\"\n  \"http://www.w3.org/Graphics/SVG/1.1/DTD/svg11.dtd\">\n<!-- Created with matplotlib (https://matplotlib.org/) -->\n<svg height=\"180.65625pt\" version=\"1.1\" viewBox=\"0 0 238.965625 180.65625\" width=\"238.965625pt\" xmlns=\"http://www.w3.org/2000/svg\" xmlns:xlink=\"http://www.w3.org/1999/xlink\">\n <metadata>\n  <rdf:RDF xmlns:cc=\"http://creativecommons.org/ns#\" xmlns:dc=\"http://purl.org/dc/elements/1.1/\" xmlns:rdf=\"http://www.w3.org/1999/02/22-rdf-syntax-ns#\">\n   <cc:Work>\n    <dc:type rdf:resource=\"http://purl.org/dc/dcmitype/StillImage\"/>\n    <dc:date>2021-06-02T10:55:17.744681</dc:date>\n    <dc:format>image/svg+xml</dc:format>\n    <dc:creator>\n     <cc:Agent>\n      <dc:title>Matplotlib v3.3.3, https://matplotlib.org/</dc:title>\n     </cc:Agent>\n    </dc:creator>\n   </cc:Work>\n  </rdf:RDF>\n </metadata>\n <defs>\n  <style type=\"text/css\">*{stroke-linecap:butt;stroke-linejoin:round;}</style>\n </defs>\n <g id=\"figure_1\">\n  <g id=\"patch_1\">\n   <path d=\"M 0 180.65625 \nL 238.965625 180.65625 \nL 238.965625 0 \nL 0 0 \nz\n\" style=\"fill:none;\"/>\n  </g>\n  <g id=\"axes_1\">\n   <g id=\"patch_2\">\n    <path d=\"M 30.103125 143.1 \nL 225.403125 143.1 \nL 225.403125 7.2 \nL 30.103125 7.2 \nz\n\" style=\"fill:#ffffff;\"/>\n   </g>\n   <g id=\"matplotlib.axis_1\">\n    <g id=\"xtick_1\">\n     <g id=\"line2d_1\">\n      <path clip-path=\"url(#pf5b353236a)\" d=\"M 51.803125 143.1 \nL 51.803125 7.2 \n\" style=\"fill:none;stroke:#b0b0b0;stroke-linecap:square;stroke-width:0.8;\"/>\n     </g>\n     <g id=\"line2d_2\">\n      <defs>\n       <path d=\"M 0 0 \nL 0 3.5 \n\" id=\"mb14023d150\" style=\"stroke:#000000;stroke-width:0.8;\"/>\n      </defs>\n      <g>\n       <use style=\"stroke:#000000;stroke-width:0.8;\" x=\"51.803125\" xlink:href=\"#mb14023d150\" y=\"143.1\"/>\n      </g>\n     </g>\n     <g id=\"text_1\">\n      <!-- 2 -->\n      <g transform=\"translate(48.621875 157.698438)scale(0.1 -0.1)\">\n       <defs>\n        <path d=\"M 19.1875 8.296875 \nL 53.609375 8.296875 \nL 53.609375 0 \nL 7.328125 0 \nL 7.328125 8.296875 \nQ 12.9375 14.109375 22.625 23.890625 \nQ 32.328125 33.6875 34.8125 36.53125 \nQ 39.546875 41.84375 41.421875 45.53125 \nQ 43.3125 49.21875 43.3125 52.78125 \nQ 43.3125 58.59375 39.234375 62.25 \nQ 35.15625 65.921875 28.609375 65.921875 \nQ 23.96875 65.921875 18.8125 64.3125 \nQ 13.671875 62.703125 7.8125 59.421875 \nL 7.8125 69.390625 \nQ 13.765625 71.78125 18.9375 73 \nQ 24.125 74.21875 28.421875 74.21875 \nQ 39.75 74.21875 46.484375 68.546875 \nQ 53.21875 62.890625 53.21875 53.421875 \nQ 53.21875 48.921875 51.53125 44.890625 \nQ 49.859375 40.875 45.40625 35.40625 \nQ 44.1875 33.984375 37.640625 27.21875 \nQ 31.109375 20.453125 19.1875 8.296875 \nz\n\" id=\"DejaVuSans-50\"/>\n       </defs>\n       <use xlink:href=\"#DejaVuSans-50\"/>\n      </g>\n     </g>\n    </g>\n    <g id=\"xtick_2\">\n     <g id=\"line2d_3\">\n      <path clip-path=\"url(#pf5b353236a)\" d=\"M 95.203125 143.1 \nL 95.203125 7.2 \n\" style=\"fill:none;stroke:#b0b0b0;stroke-linecap:square;stroke-width:0.8;\"/>\n     </g>\n     <g id=\"line2d_4\">\n      <g>\n       <use style=\"stroke:#000000;stroke-width:0.8;\" x=\"95.203125\" xlink:href=\"#mb14023d150\" y=\"143.1\"/>\n      </g>\n     </g>\n     <g id=\"text_2\">\n      <!-- 4 -->\n      <g transform=\"translate(92.021875 157.698438)scale(0.1 -0.1)\">\n       <defs>\n        <path d=\"M 37.796875 64.3125 \nL 12.890625 25.390625 \nL 37.796875 25.390625 \nz\nM 35.203125 72.90625 \nL 47.609375 72.90625 \nL 47.609375 25.390625 \nL 58.015625 25.390625 \nL 58.015625 17.1875 \nL 47.609375 17.1875 \nL 47.609375 0 \nL 37.796875 0 \nL 37.796875 17.1875 \nL 4.890625 17.1875 \nL 4.890625 26.703125 \nz\n\" id=\"DejaVuSans-52\"/>\n       </defs>\n       <use xlink:href=\"#DejaVuSans-52\"/>\n      </g>\n     </g>\n    </g>\n    <g id=\"xtick_3\">\n     <g id=\"line2d_5\">\n      <path clip-path=\"url(#pf5b353236a)\" d=\"M 138.603125 143.1 \nL 138.603125 7.2 \n\" style=\"fill:none;stroke:#b0b0b0;stroke-linecap:square;stroke-width:0.8;\"/>\n     </g>\n     <g id=\"line2d_6\">\n      <g>\n       <use style=\"stroke:#000000;stroke-width:0.8;\" x=\"138.603125\" xlink:href=\"#mb14023d150\" y=\"143.1\"/>\n      </g>\n     </g>\n     <g id=\"text_3\">\n      <!-- 6 -->\n      <g transform=\"translate(135.421875 157.698438)scale(0.1 -0.1)\">\n       <defs>\n        <path d=\"M 33.015625 40.375 \nQ 26.375 40.375 22.484375 35.828125 \nQ 18.609375 31.296875 18.609375 23.390625 \nQ 18.609375 15.53125 22.484375 10.953125 \nQ 26.375 6.390625 33.015625 6.390625 \nQ 39.65625 6.390625 43.53125 10.953125 \nQ 47.40625 15.53125 47.40625 23.390625 \nQ 47.40625 31.296875 43.53125 35.828125 \nQ 39.65625 40.375 33.015625 40.375 \nz\nM 52.59375 71.296875 \nL 52.59375 62.3125 \nQ 48.875 64.0625 45.09375 64.984375 \nQ 41.3125 65.921875 37.59375 65.921875 \nQ 27.828125 65.921875 22.671875 59.328125 \nQ 17.53125 52.734375 16.796875 39.40625 \nQ 19.671875 43.65625 24.015625 45.921875 \nQ 28.375 48.1875 33.59375 48.1875 \nQ 44.578125 48.1875 50.953125 41.515625 \nQ 57.328125 34.859375 57.328125 23.390625 \nQ 57.328125 12.15625 50.6875 5.359375 \nQ 44.046875 -1.421875 33.015625 -1.421875 \nQ 20.359375 -1.421875 13.671875 8.265625 \nQ 6.984375 17.96875 6.984375 36.375 \nQ 6.984375 53.65625 15.1875 63.9375 \nQ 23.390625 74.21875 37.203125 74.21875 \nQ 40.921875 74.21875 44.703125 73.484375 \nQ 48.484375 72.75 52.59375 71.296875 \nz\n\" id=\"DejaVuSans-54\"/>\n       </defs>\n       <use xlink:href=\"#DejaVuSans-54\"/>\n      </g>\n     </g>\n    </g>\n    <g id=\"xtick_4\">\n     <g id=\"line2d_7\">\n      <path clip-path=\"url(#pf5b353236a)\" d=\"M 182.003125 143.1 \nL 182.003125 7.2 \n\" style=\"fill:none;stroke:#b0b0b0;stroke-linecap:square;stroke-width:0.8;\"/>\n     </g>\n     <g id=\"line2d_8\">\n      <g>\n       <use style=\"stroke:#000000;stroke-width:0.8;\" x=\"182.003125\" xlink:href=\"#mb14023d150\" y=\"143.1\"/>\n      </g>\n     </g>\n     <g id=\"text_4\">\n      <!-- 8 -->\n      <g transform=\"translate(178.821875 157.698438)scale(0.1 -0.1)\">\n       <defs>\n        <path d=\"M 31.78125 34.625 \nQ 24.75 34.625 20.71875 30.859375 \nQ 16.703125 27.09375 16.703125 20.515625 \nQ 16.703125 13.921875 20.71875 10.15625 \nQ 24.75 6.390625 31.78125 6.390625 \nQ 38.8125 6.390625 42.859375 10.171875 \nQ 46.921875 13.96875 46.921875 20.515625 \nQ 46.921875 27.09375 42.890625 30.859375 \nQ 38.875 34.625 31.78125 34.625 \nz\nM 21.921875 38.8125 \nQ 15.578125 40.375 12.03125 44.71875 \nQ 8.5 49.078125 8.5 55.328125 \nQ 8.5 64.0625 14.71875 69.140625 \nQ 20.953125 74.21875 31.78125 74.21875 \nQ 42.671875 74.21875 48.875 69.140625 \nQ 55.078125 64.0625 55.078125 55.328125 \nQ 55.078125 49.078125 51.53125 44.71875 \nQ 48 40.375 41.703125 38.8125 \nQ 48.828125 37.15625 52.796875 32.3125 \nQ 56.78125 27.484375 56.78125 20.515625 \nQ 56.78125 9.90625 50.3125 4.234375 \nQ 43.84375 -1.421875 31.78125 -1.421875 \nQ 19.734375 -1.421875 13.25 4.234375 \nQ 6.78125 9.90625 6.78125 20.515625 \nQ 6.78125 27.484375 10.78125 32.3125 \nQ 14.796875 37.15625 21.921875 38.8125 \nz\nM 18.3125 54.390625 \nQ 18.3125 48.734375 21.84375 45.5625 \nQ 25.390625 42.390625 31.78125 42.390625 \nQ 38.140625 42.390625 41.71875 45.5625 \nQ 45.3125 48.734375 45.3125 54.390625 \nQ 45.3125 60.0625 41.71875 63.234375 \nQ 38.140625 66.40625 31.78125 66.40625 \nQ 25.390625 66.40625 21.84375 63.234375 \nQ 18.3125 60.0625 18.3125 54.390625 \nz\n\" id=\"DejaVuSans-56\"/>\n       </defs>\n       <use xlink:href=\"#DejaVuSans-56\"/>\n      </g>\n     </g>\n    </g>\n    <g id=\"xtick_5\">\n     <g id=\"line2d_9\">\n      <path clip-path=\"url(#pf5b353236a)\" d=\"M 225.403125 143.1 \nL 225.403125 7.2 \n\" style=\"fill:none;stroke:#b0b0b0;stroke-linecap:square;stroke-width:0.8;\"/>\n     </g>\n     <g id=\"line2d_10\">\n      <g>\n       <use style=\"stroke:#000000;stroke-width:0.8;\" x=\"225.403125\" xlink:href=\"#mb14023d150\" y=\"143.1\"/>\n      </g>\n     </g>\n     <g id=\"text_5\">\n      <!-- 10 -->\n      <g transform=\"translate(219.040625 157.698438)scale(0.1 -0.1)\">\n       <defs>\n        <path d=\"M 12.40625 8.296875 \nL 28.515625 8.296875 \nL 28.515625 63.921875 \nL 10.984375 60.40625 \nL 10.984375 69.390625 \nL 28.421875 72.90625 \nL 38.28125 72.90625 \nL 38.28125 8.296875 \nL 54.390625 8.296875 \nL 54.390625 0 \nL 12.40625 0 \nz\n\" id=\"DejaVuSans-49\"/>\n        <path d=\"M 31.78125 66.40625 \nQ 24.171875 66.40625 20.328125 58.90625 \nQ 16.5 51.421875 16.5 36.375 \nQ 16.5 21.390625 20.328125 13.890625 \nQ 24.171875 6.390625 31.78125 6.390625 \nQ 39.453125 6.390625 43.28125 13.890625 \nQ 47.125 21.390625 47.125 36.375 \nQ 47.125 51.421875 43.28125 58.90625 \nQ 39.453125 66.40625 31.78125 66.40625 \nz\nM 31.78125 74.21875 \nQ 44.046875 74.21875 50.515625 64.515625 \nQ 56.984375 54.828125 56.984375 36.375 \nQ 56.984375 17.96875 50.515625 8.265625 \nQ 44.046875 -1.421875 31.78125 -1.421875 \nQ 19.53125 -1.421875 13.0625 8.265625 \nQ 6.59375 17.96875 6.59375 36.375 \nQ 6.59375 54.828125 13.0625 64.515625 \nQ 19.53125 74.21875 31.78125 74.21875 \nz\n\" id=\"DejaVuSans-48\"/>\n       </defs>\n       <use xlink:href=\"#DejaVuSans-49\"/>\n       <use x=\"63.623047\" xlink:href=\"#DejaVuSans-48\"/>\n      </g>\n     </g>\n    </g>\n    <g id=\"text_6\">\n     <!-- epoch -->\n     <g transform=\"translate(112.525 171.376563)scale(0.1 -0.1)\">\n      <defs>\n       <path d=\"M 56.203125 29.59375 \nL 56.203125 25.203125 \nL 14.890625 25.203125 \nQ 15.484375 15.921875 20.484375 11.0625 \nQ 25.484375 6.203125 34.421875 6.203125 \nQ 39.59375 6.203125 44.453125 7.46875 \nQ 49.3125 8.734375 54.109375 11.28125 \nL 54.109375 2.78125 \nQ 49.265625 0.734375 44.1875 -0.34375 \nQ 39.109375 -1.421875 33.890625 -1.421875 \nQ 20.796875 -1.421875 13.15625 6.1875 \nQ 5.515625 13.8125 5.515625 26.8125 \nQ 5.515625 40.234375 12.765625 48.109375 \nQ 20.015625 56 32.328125 56 \nQ 43.359375 56 49.78125 48.890625 \nQ 56.203125 41.796875 56.203125 29.59375 \nz\nM 47.21875 32.234375 \nQ 47.125 39.59375 43.09375 43.984375 \nQ 39.0625 48.390625 32.421875 48.390625 \nQ 24.90625 48.390625 20.390625 44.140625 \nQ 15.875 39.890625 15.1875 32.171875 \nz\n\" id=\"DejaVuSans-101\"/>\n       <path d=\"M 18.109375 8.203125 \nL 18.109375 -20.796875 \nL 9.078125 -20.796875 \nL 9.078125 54.6875 \nL 18.109375 54.6875 \nL 18.109375 46.390625 \nQ 20.953125 51.265625 25.265625 53.625 \nQ 29.59375 56 35.59375 56 \nQ 45.5625 56 51.78125 48.09375 \nQ 58.015625 40.1875 58.015625 27.296875 \nQ 58.015625 14.40625 51.78125 6.484375 \nQ 45.5625 -1.421875 35.59375 -1.421875 \nQ 29.59375 -1.421875 25.265625 0.953125 \nQ 20.953125 3.328125 18.109375 8.203125 \nz\nM 48.6875 27.296875 \nQ 48.6875 37.203125 44.609375 42.84375 \nQ 40.53125 48.484375 33.40625 48.484375 \nQ 26.265625 48.484375 22.1875 42.84375 \nQ 18.109375 37.203125 18.109375 27.296875 \nQ 18.109375 17.390625 22.1875 11.75 \nQ 26.265625 6.109375 33.40625 6.109375 \nQ 40.53125 6.109375 44.609375 11.75 \nQ 48.6875 17.390625 48.6875 27.296875 \nz\n\" id=\"DejaVuSans-112\"/>\n       <path d=\"M 30.609375 48.390625 \nQ 23.390625 48.390625 19.1875 42.75 \nQ 14.984375 37.109375 14.984375 27.296875 \nQ 14.984375 17.484375 19.15625 11.84375 \nQ 23.34375 6.203125 30.609375 6.203125 \nQ 37.796875 6.203125 41.984375 11.859375 \nQ 46.1875 17.53125 46.1875 27.296875 \nQ 46.1875 37.015625 41.984375 42.703125 \nQ 37.796875 48.390625 30.609375 48.390625 \nz\nM 30.609375 56 \nQ 42.328125 56 49.015625 48.375 \nQ 55.71875 40.765625 55.71875 27.296875 \nQ 55.71875 13.875 49.015625 6.21875 \nQ 42.328125 -1.421875 30.609375 -1.421875 \nQ 18.84375 -1.421875 12.171875 6.21875 \nQ 5.515625 13.875 5.515625 27.296875 \nQ 5.515625 40.765625 12.171875 48.375 \nQ 18.84375 56 30.609375 56 \nz\n\" id=\"DejaVuSans-111\"/>\n       <path d=\"M 48.78125 52.59375 \nL 48.78125 44.1875 \nQ 44.96875 46.296875 41.140625 47.34375 \nQ 37.3125 48.390625 33.40625 48.390625 \nQ 24.65625 48.390625 19.8125 42.84375 \nQ 14.984375 37.3125 14.984375 27.296875 \nQ 14.984375 17.28125 19.8125 11.734375 \nQ 24.65625 6.203125 33.40625 6.203125 \nQ 37.3125 6.203125 41.140625 7.25 \nQ 44.96875 8.296875 48.78125 10.40625 \nL 48.78125 2.09375 \nQ 45.015625 0.34375 40.984375 -0.53125 \nQ 36.96875 -1.421875 32.421875 -1.421875 \nQ 20.0625 -1.421875 12.78125 6.34375 \nQ 5.515625 14.109375 5.515625 27.296875 \nQ 5.515625 40.671875 12.859375 48.328125 \nQ 20.21875 56 33.015625 56 \nQ 37.15625 56 41.109375 55.140625 \nQ 45.0625 54.296875 48.78125 52.59375 \nz\n\" id=\"DejaVuSans-99\"/>\n       <path d=\"M 54.890625 33.015625 \nL 54.890625 0 \nL 45.90625 0 \nL 45.90625 32.71875 \nQ 45.90625 40.484375 42.875 44.328125 \nQ 39.84375 48.1875 33.796875 48.1875 \nQ 26.515625 48.1875 22.3125 43.546875 \nQ 18.109375 38.921875 18.109375 30.90625 \nL 18.109375 0 \nL 9.078125 0 \nL 9.078125 75.984375 \nL 18.109375 75.984375 \nL 18.109375 46.1875 \nQ 21.34375 51.125 25.703125 53.5625 \nQ 30.078125 56 35.796875 56 \nQ 45.21875 56 50.046875 50.171875 \nQ 54.890625 44.34375 54.890625 33.015625 \nz\n\" id=\"DejaVuSans-104\"/>\n      </defs>\n      <use xlink:href=\"#DejaVuSans-101\"/>\n      <use x=\"61.523438\" xlink:href=\"#DejaVuSans-112\"/>\n      <use x=\"125\" xlink:href=\"#DejaVuSans-111\"/>\n      <use x=\"186.181641\" xlink:href=\"#DejaVuSans-99\"/>\n      <use x=\"241.162109\" xlink:href=\"#DejaVuSans-104\"/>\n     </g>\n    </g>\n   </g>\n   <g id=\"matplotlib.axis_2\">\n    <g id=\"ytick_1\">\n     <g id=\"line2d_11\">\n      <path clip-path=\"url(#pf5b353236a)\" d=\"M 30.103125 115.66301 \nL 225.403125 115.66301 \n\" style=\"fill:none;stroke:#b0b0b0;stroke-linecap:square;stroke-width:0.8;\"/>\n     </g>\n     <g id=\"line2d_12\">\n      <defs>\n       <path d=\"M 0 0 \nL -3.5 0 \n\" id=\"mb43460a44e\" style=\"stroke:#000000;stroke-width:0.8;\"/>\n      </defs>\n      <g>\n       <use style=\"stroke:#000000;stroke-width:0.8;\" x=\"30.103125\" xlink:href=\"#mb43460a44e\" y=\"115.66301\"/>\n      </g>\n     </g>\n     <g id=\"text_7\">\n      <!-- 0.5 -->\n      <g transform=\"translate(7.2 119.462229)scale(0.1 -0.1)\">\n       <defs>\n        <path d=\"M 10.6875 12.40625 \nL 21 12.40625 \nL 21 0 \nL 10.6875 0 \nz\n\" id=\"DejaVuSans-46\"/>\n        <path d=\"M 10.796875 72.90625 \nL 49.515625 72.90625 \nL 49.515625 64.59375 \nL 19.828125 64.59375 \nL 19.828125 46.734375 \nQ 21.96875 47.46875 24.109375 47.828125 \nQ 26.265625 48.1875 28.421875 48.1875 \nQ 40.625 48.1875 47.75 41.5 \nQ 54.890625 34.8125 54.890625 23.390625 \nQ 54.890625 11.625 47.5625 5.09375 \nQ 40.234375 -1.421875 26.90625 -1.421875 \nQ 22.3125 -1.421875 17.546875 -0.640625 \nQ 12.796875 0.140625 7.71875 1.703125 \nL 7.71875 11.625 \nQ 12.109375 9.234375 16.796875 8.0625 \nQ 21.484375 6.890625 26.703125 6.890625 \nQ 35.15625 6.890625 40.078125 11.328125 \nQ 45.015625 15.765625 45.015625 23.390625 \nQ 45.015625 31 40.078125 35.4375 \nQ 35.15625 39.890625 26.703125 39.890625 \nQ 22.75 39.890625 18.8125 39.015625 \nQ 14.890625 38.140625 10.796875 36.28125 \nz\n\" id=\"DejaVuSans-53\"/>\n       </defs>\n       <use xlink:href=\"#DejaVuSans-48\"/>\n       <use x=\"63.623047\" xlink:href=\"#DejaVuSans-46\"/>\n       <use x=\"95.410156\" xlink:href=\"#DejaVuSans-53\"/>\n      </g>\n     </g>\n    </g>\n    <g id=\"ytick_2\">\n     <g id=\"line2d_13\">\n      <path clip-path=\"url(#pf5b353236a)\" d=\"M 30.103125 83.258881 \nL 225.403125 83.258881 \n\" style=\"fill:none;stroke:#b0b0b0;stroke-linecap:square;stroke-width:0.8;\"/>\n     </g>\n     <g id=\"line2d_14\">\n      <g>\n       <use style=\"stroke:#000000;stroke-width:0.8;\" x=\"30.103125\" xlink:href=\"#mb43460a44e\" y=\"83.258881\"/>\n      </g>\n     </g>\n     <g id=\"text_8\">\n      <!-- 1.0 -->\n      <g transform=\"translate(7.2 87.0581)scale(0.1 -0.1)\">\n       <use xlink:href=\"#DejaVuSans-49\"/>\n       <use x=\"63.623047\" xlink:href=\"#DejaVuSans-46\"/>\n       <use x=\"95.410156\" xlink:href=\"#DejaVuSans-48\"/>\n      </g>\n     </g>\n    </g>\n    <g id=\"ytick_3\">\n     <g id=\"line2d_15\">\n      <path clip-path=\"url(#pf5b353236a)\" d=\"M 30.103125 50.854752 \nL 225.403125 50.854752 \n\" style=\"fill:none;stroke:#b0b0b0;stroke-linecap:square;stroke-width:0.8;\"/>\n     </g>\n     <g id=\"line2d_16\">\n      <g>\n       <use style=\"stroke:#000000;stroke-width:0.8;\" x=\"30.103125\" xlink:href=\"#mb43460a44e\" y=\"50.854752\"/>\n      </g>\n     </g>\n     <g id=\"text_9\">\n      <!-- 1.5 -->\n      <g transform=\"translate(7.2 54.653971)scale(0.1 -0.1)\">\n       <use xlink:href=\"#DejaVuSans-49\"/>\n       <use x=\"63.623047\" xlink:href=\"#DejaVuSans-46\"/>\n       <use x=\"95.410156\" xlink:href=\"#DejaVuSans-53\"/>\n      </g>\n     </g>\n    </g>\n    <g id=\"ytick_4\">\n     <g id=\"line2d_17\">\n      <path clip-path=\"url(#pf5b353236a)\" d=\"M 30.103125 18.450624 \nL 225.403125 18.450624 \n\" style=\"fill:none;stroke:#b0b0b0;stroke-linecap:square;stroke-width:0.8;\"/>\n     </g>\n     <g id=\"line2d_18\">\n      <g>\n       <use style=\"stroke:#000000;stroke-width:0.8;\" x=\"30.103125\" xlink:href=\"#mb43460a44e\" y=\"18.450624\"/>\n      </g>\n     </g>\n     <g id=\"text_10\">\n      <!-- 2.0 -->\n      <g transform=\"translate(7.2 22.249842)scale(0.1 -0.1)\">\n       <use xlink:href=\"#DejaVuSans-50\"/>\n       <use x=\"63.623047\" xlink:href=\"#DejaVuSans-46\"/>\n       <use x=\"95.410156\" xlink:href=\"#DejaVuSans-48\"/>\n      </g>\n     </g>\n    </g>\n   </g>\n   <g id=\"line2d_19\">\n    <path clip-path=\"url(#pf5b353236a)\" d=\"M 12.70611 13.377273 \nL 17.009095 51.052572 \nL 21.31208 69.183461 \nL 25.615065 80.018806 \nL 29.91805 87.237535 \nL 30.103125 87.514215 \nL 34.40611 119.638582 \nL 38.709095 120.041411 \nL 43.01208 120.606876 \nL 47.315065 121.453788 \nL 51.61805 122.016815 \nL 51.803125 122.041299 \nL 56.10611 125.80939 \nL 60.409095 126.079174 \nL 64.71208 126.028863 \nL 69.015065 126.499423 \nL 73.31805 126.788365 \nL 73.503125 126.822301 \nL 77.80611 129.223919 \nL 82.109095 129.061176 \nL 86.41208 129.448298 \nL 90.715065 129.378966 \nL 95.01805 129.42303 \nL 95.203125 129.427005 \nL 99.50611 131.442563 \nL 103.809095 131.10984 \nL 108.11208 131.144265 \nL 112.415065 131.375748 \nL 116.71805 131.295542 \nL 116.903125 131.303188 \nL 121.20611 132.796868 \nL 125.509095 132.509771 \nL 129.81208 132.484768 \nL 134.115065 132.66402 \nL 138.41805 132.611892 \nL 138.603125 132.629078 \nL 142.90611 133.906272 \nL 147.209095 133.741646 \nL 151.51208 133.87213 \nL 155.815065 133.875674 \nL 160.11805 133.961312 \nL 160.303125 133.970035 \nL 164.60611 134.449984 \nL 168.909095 134.593139 \nL 173.21208 134.761236 \nL 177.515065 134.827254 \nL 181.81805 134.855645 \nL 182.003125 134.845216 \nL 186.30611 135.954125 \nL 190.609095 135.569103 \nL 194.91208 135.833845 \nL 199.215065 135.753375 \nL 203.51805 135.832112 \nL 203.703125 135.855968 \nL 208.00611 136.875066 \nL 212.309095 136.922727 \nL 216.61208 136.685775 \nL 220.915065 136.727021 \nL 225.21805 136.763716 \nL 225.403125 136.760587 \n\" style=\"fill:none;stroke:#1f77b4;stroke-linecap:square;stroke-width:1.5;\"/>\n   </g>\n   <g id=\"line2d_20\">\n    <path clip-path=\"url(#pf5b353236a)\" d=\"M 12.70611 129.551272 \nL 17.009095 117.778098 \nL 21.31208 111.590717 \nL 25.615065 107.861411 \nL 29.91805 105.253619 \nL 30.103125 105.156512 \nL 34.40611 93.853376 \nL 38.709095 93.578442 \nL 43.01208 93.388801 \nL 47.315065 93.114321 \nL 51.61805 92.89519 \nL 51.803125 92.880747 \nL 56.10611 91.506908 \nL 60.409095 91.395301 \nL 64.71208 91.34721 \nL 69.015065 91.173448 \nL 73.31805 91.03217 \nL 73.503125 91.027231 \nL 77.80611 90.363617 \nL 82.109095 90.32823 \nL 86.41208 90.174884 \nL 90.715065 90.170347 \nL 95.01805 90.129515 \nL 95.203125 90.131797 \nL 99.50611 89.334656 \nL 103.809095 89.503427 \nL 108.11208 89.497983 \nL 112.415065 89.419041 \nL 116.71805 89.452251 \nL 116.903125 89.45023 \nL 121.20611 88.861006 \nL 125.509095 88.910005 \nL 129.81208 88.998927 \nL 134.115065 88.91681 \nL 138.41805 88.94267 \nL 138.603125 88.930684 \nL 142.90611 88.58335 \nL 147.209095 88.501687 \nL 151.51208 88.481724 \nL 155.815065 88.471743 \nL 160.11805 88.440711 \nL 160.303125 88.438141 \nL 164.60611 88.343803 \nL 168.909095 88.229474 \nL 173.21208 88.158699 \nL 177.515065 88.115145 \nL 181.81805 88.133656 \nL 182.003125 88.135703 \nL 186.30611 87.706827 \nL 190.609095 87.807546 \nL 194.91208 87.724975 \nL 199.215065 87.755825 \nL 203.51805 87.722071 \nL 203.703125 87.712289 \nL 208.00611 87.374728 \nL 212.309095 87.448226 \nL 216.61208 87.512649 \nL 220.915065 87.483613 \nL 225.21805 87.45857 \nL 225.403125 87.461697 \n\" style=\"fill:none;stroke:#bf00bf;stroke-dasharray:5.55,2.4;stroke-dashoffset:0;stroke-width:1.5;\"/>\n   </g>\n   <g id=\"line2d_21\">\n    <path clip-path=\"url(#pf5b353236a)\" d=\"M 30.103125 92.455173 \nL 51.803125 92.312595 \nL 73.503125 90.037825 \nL 95.203125 89.558244 \nL 116.903125 89.162914 \nL 138.603125 88.761102 \nL 160.303125 88.255598 \nL 182.003125 89.039778 \nL 203.703125 88.022288 \nL 225.403125 87.996365 \n\" style=\"fill:none;stroke:#008000;stroke-dasharray:9.6,2.4,1.5,2.4;stroke-dashoffset:0;stroke-width:1.5;\"/>\n   </g>\n   <g id=\"patch_3\">\n    <path d=\"M 30.103125 143.1 \nL 30.103125 7.2 \n\" style=\"fill:none;stroke:#000000;stroke-linecap:square;stroke-linejoin:miter;stroke-width:0.8;\"/>\n   </g>\n   <g id=\"patch_4\">\n    <path d=\"M 225.403125 143.1 \nL 225.403125 7.2 \n\" style=\"fill:none;stroke:#000000;stroke-linecap:square;stroke-linejoin:miter;stroke-width:0.8;\"/>\n   </g>\n   <g id=\"patch_5\">\n    <path d=\"M 30.103125 143.1 \nL 225.403125 143.1 \n\" style=\"fill:none;stroke:#000000;stroke-linecap:square;stroke-linejoin:miter;stroke-width:0.8;\"/>\n   </g>\n   <g id=\"patch_6\">\n    <path d=\"M 30.103125 7.2 \nL 225.403125 7.2 \n\" style=\"fill:none;stroke:#000000;stroke-linecap:square;stroke-linejoin:miter;stroke-width:0.8;\"/>\n   </g>\n   <g id=\"legend_1\">\n    <g id=\"patch_7\">\n     <path d=\"M 140.634375 59.234375 \nL 218.403125 59.234375 \nQ 220.403125 59.234375 220.403125 57.234375 \nL 220.403125 14.2 \nQ 220.403125 12.2 218.403125 12.2 \nL 140.634375 12.2 \nQ 138.634375 12.2 138.634375 14.2 \nL 138.634375 57.234375 \nQ 138.634375 59.234375 140.634375 59.234375 \nz\n\" style=\"fill:#ffffff;opacity:0.8;stroke:#cccccc;stroke-linejoin:miter;\"/>\n    </g>\n    <g id=\"line2d_22\">\n     <path d=\"M 142.634375 20.298438 \nL 162.634375 20.298438 \n\" style=\"fill:none;stroke:#1f77b4;stroke-linecap:square;stroke-width:1.5;\"/>\n    </g>\n    <g id=\"line2d_23\"/>\n    <g id=\"text_11\">\n     <!-- train loss -->\n     <g transform=\"translate(170.634375 23.798438)scale(0.1 -0.1)\">\n      <defs>\n       <path d=\"M 18.3125 70.21875 \nL 18.3125 54.6875 \nL 36.8125 54.6875 \nL 36.8125 47.703125 \nL 18.3125 47.703125 \nL 18.3125 18.015625 \nQ 18.3125 11.328125 20.140625 9.421875 \nQ 21.96875 7.515625 27.59375 7.515625 \nL 36.8125 7.515625 \nL 36.8125 0 \nL 27.59375 0 \nQ 17.1875 0 13.234375 3.875 \nQ 9.28125 7.765625 9.28125 18.015625 \nL 9.28125 47.703125 \nL 2.6875 47.703125 \nL 2.6875 54.6875 \nL 9.28125 54.6875 \nL 9.28125 70.21875 \nz\n\" id=\"DejaVuSans-116\"/>\n       <path d=\"M 41.109375 46.296875 \nQ 39.59375 47.171875 37.8125 47.578125 \nQ 36.03125 48 33.890625 48 \nQ 26.265625 48 22.1875 43.046875 \nQ 18.109375 38.09375 18.109375 28.8125 \nL 18.109375 0 \nL 9.078125 0 \nL 9.078125 54.6875 \nL 18.109375 54.6875 \nL 18.109375 46.1875 \nQ 20.953125 51.171875 25.484375 53.578125 \nQ 30.03125 56 36.53125 56 \nQ 37.453125 56 38.578125 55.875 \nQ 39.703125 55.765625 41.0625 55.515625 \nz\n\" id=\"DejaVuSans-114\"/>\n       <path d=\"M 34.28125 27.484375 \nQ 23.390625 27.484375 19.1875 25 \nQ 14.984375 22.515625 14.984375 16.5 \nQ 14.984375 11.71875 18.140625 8.90625 \nQ 21.296875 6.109375 26.703125 6.109375 \nQ 34.1875 6.109375 38.703125 11.40625 \nQ 43.21875 16.703125 43.21875 25.484375 \nL 43.21875 27.484375 \nz\nM 52.203125 31.203125 \nL 52.203125 0 \nL 43.21875 0 \nL 43.21875 8.296875 \nQ 40.140625 3.328125 35.546875 0.953125 \nQ 30.953125 -1.421875 24.3125 -1.421875 \nQ 15.921875 -1.421875 10.953125 3.296875 \nQ 6 8.015625 6 15.921875 \nQ 6 25.140625 12.171875 29.828125 \nQ 18.359375 34.515625 30.609375 34.515625 \nL 43.21875 34.515625 \nL 43.21875 35.40625 \nQ 43.21875 41.609375 39.140625 45 \nQ 35.0625 48.390625 27.6875 48.390625 \nQ 23 48.390625 18.546875 47.265625 \nQ 14.109375 46.140625 10.015625 43.890625 \nL 10.015625 52.203125 \nQ 14.9375 54.109375 19.578125 55.046875 \nQ 24.21875 56 28.609375 56 \nQ 40.484375 56 46.34375 49.84375 \nQ 52.203125 43.703125 52.203125 31.203125 \nz\n\" id=\"DejaVuSans-97\"/>\n       <path d=\"M 9.421875 54.6875 \nL 18.40625 54.6875 \nL 18.40625 0 \nL 9.421875 0 \nz\nM 9.421875 75.984375 \nL 18.40625 75.984375 \nL 18.40625 64.59375 \nL 9.421875 64.59375 \nz\n\" id=\"DejaVuSans-105\"/>\n       <path d=\"M 54.890625 33.015625 \nL 54.890625 0 \nL 45.90625 0 \nL 45.90625 32.71875 \nQ 45.90625 40.484375 42.875 44.328125 \nQ 39.84375 48.1875 33.796875 48.1875 \nQ 26.515625 48.1875 22.3125 43.546875 \nQ 18.109375 38.921875 18.109375 30.90625 \nL 18.109375 0 \nL 9.078125 0 \nL 9.078125 54.6875 \nL 18.109375 54.6875 \nL 18.109375 46.1875 \nQ 21.34375 51.125 25.703125 53.5625 \nQ 30.078125 56 35.796875 56 \nQ 45.21875 56 50.046875 50.171875 \nQ 54.890625 44.34375 54.890625 33.015625 \nz\n\" id=\"DejaVuSans-110\"/>\n       <path id=\"DejaVuSans-32\"/>\n       <path d=\"M 9.421875 75.984375 \nL 18.40625 75.984375 \nL 18.40625 0 \nL 9.421875 0 \nz\n\" id=\"DejaVuSans-108\"/>\n       <path d=\"M 44.28125 53.078125 \nL 44.28125 44.578125 \nQ 40.484375 46.53125 36.375 47.5 \nQ 32.28125 48.484375 27.875 48.484375 \nQ 21.1875 48.484375 17.84375 46.4375 \nQ 14.5 44.390625 14.5 40.28125 \nQ 14.5 37.15625 16.890625 35.375 \nQ 19.28125 33.59375 26.515625 31.984375 \nL 29.59375 31.296875 \nQ 39.15625 29.25 43.1875 25.515625 \nQ 47.21875 21.78125 47.21875 15.09375 \nQ 47.21875 7.46875 41.1875 3.015625 \nQ 35.15625 -1.421875 24.609375 -1.421875 \nQ 20.21875 -1.421875 15.453125 -0.5625 \nQ 10.6875 0.296875 5.421875 2 \nL 5.421875 11.28125 \nQ 10.40625 8.6875 15.234375 7.390625 \nQ 20.0625 6.109375 24.8125 6.109375 \nQ 31.15625 6.109375 34.5625 8.28125 \nQ 37.984375 10.453125 37.984375 14.40625 \nQ 37.984375 18.0625 35.515625 20.015625 \nQ 33.0625 21.96875 24.703125 23.78125 \nL 21.578125 24.515625 \nQ 13.234375 26.265625 9.515625 29.90625 \nQ 5.8125 33.546875 5.8125 39.890625 \nQ 5.8125 47.609375 11.28125 51.796875 \nQ 16.75 56 26.8125 56 \nQ 31.78125 56 36.171875 55.265625 \nQ 40.578125 54.546875 44.28125 53.078125 \nz\n\" id=\"DejaVuSans-115\"/>\n      </defs>\n      <use xlink:href=\"#DejaVuSans-116\"/>\n      <use x=\"39.208984\" xlink:href=\"#DejaVuSans-114\"/>\n      <use x=\"80.322266\" xlink:href=\"#DejaVuSans-97\"/>\n      <use x=\"141.601562\" xlink:href=\"#DejaVuSans-105\"/>\n      <use x=\"169.384766\" xlink:href=\"#DejaVuSans-110\"/>\n      <use x=\"232.763672\" xlink:href=\"#DejaVuSans-32\"/>\n      <use x=\"264.550781\" xlink:href=\"#DejaVuSans-108\"/>\n      <use x=\"292.333984\" xlink:href=\"#DejaVuSans-111\"/>\n      <use x=\"353.515625\" xlink:href=\"#DejaVuSans-115\"/>\n      <use x=\"405.615234\" xlink:href=\"#DejaVuSans-115\"/>\n     </g>\n    </g>\n    <g id=\"line2d_24\">\n     <path d=\"M 142.634375 34.976562 \nL 162.634375 34.976562 \n\" style=\"fill:none;stroke:#bf00bf;stroke-dasharray:5.55,2.4;stroke-dashoffset:0;stroke-width:1.5;\"/>\n    </g>\n    <g id=\"line2d_25\"/>\n    <g id=\"text_12\">\n     <!-- train acc -->\n     <g transform=\"translate(170.634375 38.476562)scale(0.1 -0.1)\">\n      <use xlink:href=\"#DejaVuSans-116\"/>\n      <use x=\"39.208984\" xlink:href=\"#DejaVuSans-114\"/>\n      <use x=\"80.322266\" xlink:href=\"#DejaVuSans-97\"/>\n      <use x=\"141.601562\" xlink:href=\"#DejaVuSans-105\"/>\n      <use x=\"169.384766\" xlink:href=\"#DejaVuSans-110\"/>\n      <use x=\"232.763672\" xlink:href=\"#DejaVuSans-32\"/>\n      <use x=\"264.550781\" xlink:href=\"#DejaVuSans-97\"/>\n      <use x=\"325.830078\" xlink:href=\"#DejaVuSans-99\"/>\n      <use x=\"380.810547\" xlink:href=\"#DejaVuSans-99\"/>\n     </g>\n    </g>\n    <g id=\"line2d_26\">\n     <path d=\"M 142.634375 49.654688 \nL 162.634375 49.654688 \n\" style=\"fill:none;stroke:#008000;stroke-dasharray:9.6,2.4,1.5,2.4;stroke-dashoffset:0;stroke-width:1.5;\"/>\n    </g>\n    <g id=\"line2d_27\"/>\n    <g id=\"text_13\">\n     <!-- test acc -->\n     <g transform=\"translate(170.634375 53.154688)scale(0.1 -0.1)\">\n      <use xlink:href=\"#DejaVuSans-116\"/>\n      <use x=\"39.208984\" xlink:href=\"#DejaVuSans-101\"/>\n      <use x=\"100.732422\" xlink:href=\"#DejaVuSans-115\"/>\n      <use x=\"152.832031\" xlink:href=\"#DejaVuSans-116\"/>\n      <use x=\"192.041016\" xlink:href=\"#DejaVuSans-32\"/>\n      <use x=\"223.828125\" xlink:href=\"#DejaVuSans-97\"/>\n      <use x=\"285.107422\" xlink:href=\"#DejaVuSans-99\"/>\n      <use x=\"340.087891\" xlink:href=\"#DejaVuSans-99\"/>\n     </g>\n    </g>\n   </g>\n  </g>\n </g>\n <defs>\n  <clipPath id=\"pf5b353236a\">\n   <rect height=\"135.9\" width=\"195.3\" x=\"30.103125\" y=\"7.2\"/>\n  </clipPath>\n </defs>\n</svg>\n",
            "text/plain": [
              "<Figure size 252x180 with 1 Axes>"
            ]
          },
          "metadata": {
            "tags": [],
            "needs_background": "light"
          }
        }
      ]
    },
    {
      "cell_type": "markdown",
      "metadata": {
        "origin_pos": 21,
        "id": "CMZIhjCcZOVO"
      },
      "source": [
        "**Summary**\n",
        "\n",
        "* VGG-11 constructs a network using reusable convolutional blocks. Different VGG models can be defined by the differences in the number of convolutional layers and output channels in each block.\n",
        "* The use of blocks leads to very compact representations of the network definition. It allows for efficient design of complex networks.\n",
        "* In their VGG paper, Simonyan and Ziserman experimented with various architectures. In particular, they found that several layers of deep and narrow convolutions (i.e., $3 \\times 3$) were more effective than fewer layers of wider convolutions.\n"
      ]
    }
  ]
}